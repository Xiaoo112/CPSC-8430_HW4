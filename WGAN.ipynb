{
 "cells": [
  {
   "cell_type": "code",
   "execution_count": 1,
   "id": "4060d7d6-73f9-4b65-bedf-090fffe69657",
   "metadata": {},
   "outputs": [
    {
     "name": "stdout",
     "output_type": "stream",
     "text": [
      "Using device: cuda\n"
     ]
    }
   ],
   "source": [
    "import torch\n",
    "import torchvision\n",
    "from torchvision import utils\n",
    "from torch.utils.data import DataLoader\n",
    "from torch import nn\n",
    "from torch.autograd import Variable\n",
    "from pytorch_gan_metrics import get_inception_score\n",
    "from tqdm import tqdm\n",
    "import os\n",
    "import numpy as np\n",
    "\n",
    "device = torch.device('cuda' if torch.cuda.is_available() else 'cpu')\n",
    "print(\"Using device:\", device)"
   ]
  },
  {
   "cell_type": "code",
   "execution_count": null,
   "id": "a08affb6-21c5-4e54-8b22-5defd91889a0",
   "metadata": {},
   "outputs": [],
   "source": []
  },
  {
   "cell_type": "code",
   "execution_count": 2,
   "id": "290ce762-8238-477a-9d5d-e4a2c5654eb4",
   "metadata": {},
   "outputs": [],
   "source": [
    "batch_size = 64\n",
    "transform = torchvision.transforms.Compose([\n",
    "    torchvision.transforms.ToTensor(), \n",
    "    torchvision.transforms.Resize(32), \n",
    "    torchvision.transforms.Normalize((0.5, 0.5, 0.5), (0.5, 0.5, 0.5))])"
   ]
  },
  {
   "cell_type": "code",
   "execution_count": null,
   "id": "7892d6d8-fe95-475e-8672-4ce05dc75ea7",
   "metadata": {},
   "outputs": [],
   "source": []
  },
  {
   "cell_type": "code",
   "execution_count": 3,
   "id": "2cc7835b-bb16-4dd0-bb33-c65433f8b39f",
   "metadata": {},
   "outputs": [
    {
     "name": "stdout",
     "output_type": "stream",
     "text": [
      "Files already downloaded and verified\n",
      "Files already downloaded and verified\n",
      "########################################\n",
      "CIFAR10 dataloader Generated\n"
     ]
    }
   ],
   "source": [
    "train_CIFAR10_set = torchvision.datasets.CIFAR10(root='./cifar10/', train=True, download=True, transform=transform)\n",
    "test_CIFAR10_set = torchvision.datasets.CIFAR10(root='./cifar10/', train=False, download=True, transform=transform)\n",
    "\n",
    "train_CIFAR10_dataloader = DataLoader(train_CIFAR10_set, batch_size=batch_size, shuffle=True, drop_last=True)\n",
    "test_CIFAR10_dataloader = DataLoader(test_CIFAR10_set, batch_size=batch_size, shuffle=True, drop_last=True)\n",
    "\n",
    "print('#' * 40)\n",
    "print(\"CIFAR10 dataloader Generated\")"
   ]
  },
  {
   "cell_type": "code",
   "execution_count": null,
   "id": "6b468550-946f-4322-98d8-d381139c86d9",
   "metadata": {},
   "outputs": [],
   "source": []
  },
  {
   "cell_type": "code",
   "execution_count": 4,
   "id": "0ac3f530-8198-442c-87e6-6acabe121977",
   "metadata": {},
   "outputs": [
    {
     "name": "stdout",
     "output_type": "stream",
     "text": [
      "Instantiating WGAN generator and discriminator...\n",
      "Models are set up and moved to the device.\n"
     ]
    }
   ],
   "source": [
    "class GeneratorWGAN(nn.Module):\n",
    "    def __init__(self):\n",
    "        super(GeneratorWGAN, self).__init__()\n",
    "\n",
    "        def create_block(input_features, output_features, normalize=True):\n",
    "            layers = [nn.Linear(input_features, output_features)]\n",
    "            if normalize:\n",
    "                layers.append(nn.BatchNorm1d(output_features, 0.8))\n",
    "            layers.append(nn.LeakyReLU(0.2, inplace=True))\n",
    "            return layers\n",
    "\n",
    "        self.network = nn.Sequential(\n",
    "            *create_block(100, 128, normalize=False),\n",
    "            *create_block(128, 256),\n",
    "            *create_block(256, 512),\n",
    "            *create_block(512, 1024),\n",
    "            nn.Linear(1024, 3*32*32),\n",
    "            nn.Tanh()\n",
    "        )\n",
    "\n",
    "    def forward(self, noise_vector):\n",
    "        image = self.network(noise_vector)\n",
    "        image = image.view(image.shape[0], 3, 32, 32)\n",
    "        return image\n",
    "\n",
    "class DiscriminatorWGAN(nn.Module):\n",
    "    def __init__(self):\n",
    "        super(DiscriminatorWGAN, self).__init__()\n",
    "\n",
    "        self.network = nn.Sequential(\n",
    "            nn.Linear(3*32*32, 512),\n",
    "            nn.LeakyReLU(0.2, inplace=True),\n",
    "            nn.Linear(512, 256),\n",
    "            nn.LeakyReLU(0.2, inplace=True),\n",
    "            nn.Linear(256, 1),\n",
    "        )\n",
    "\n",
    "    def forward(self, image):\n",
    "        image_flat = image.view(image.shape[0], -1)\n",
    "        validity = self.network(image_flat)\n",
    "        return validity\n",
    "\n",
    "print(\"Instantiating WGAN generator and discriminator...\")\n",
    "wgan_generator_instance = GeneratorWGAN().to(device)\n",
    "wgan_discriminator_instance = DiscriminatorWGAN().to(device)\n",
    "print(\"Models are set up and moved to the device.\")"
   ]
  },
  {
   "cell_type": "code",
   "execution_count": null,
   "id": "b7b0b6bb-1370-4120-9cf4-db6ea5bd359a",
   "metadata": {},
   "outputs": [],
   "source": []
  },
  {
   "cell_type": "code",
   "execution_count": 5,
   "id": "1625a707-ad5a-4afc-9931-eeb63799c970",
   "metadata": {},
   "outputs": [],
   "source": [
    "learning_rate = 5e-4\n",
    "epochs = 50\n",
    "batch_size = 64\n",
    "n_critic = 5\n",
    "weight_clipping_limit = 0.01\n",
    "\n",
    "def train_wgan(generator_model, discriminator_model, data_loader):\n",
    "    optimizer_gen = torch.optim.Adam(generator_model.parameters(), lr=learning_rate, betas=(0.5, 0.9))\n",
    "    optimizer_disc = torch.optim.Adam(discriminator_model.parameters(), lr=learning_rate, betas=(0.5, 0.9))\n",
    "\n",
    "    if not os.path.exists('train_generated_images_wgan/'):\n",
    "        os.makedirs('train_generated_images_wgan')\n",
    "        \n",
    "    inception_score_log = open(\"inception_score_wgan.csv\", \"w\")\n",
    "    inception_score_log.write('epoch, inception_score \\n')\n",
    "\n",
    "    for epoch in tqdm(range(epochs)):\n",
    "        for i, (images, _) in enumerate(data_loader):\n",
    "            real_images = images.type(torch.cuda.FloatTensor).to(device)\n",
    "\n",
    "            ### train discriminator\n",
    "            optimizer_disc.zero_grad()\n",
    "            noise_vector = torch.randn(images.shape[0], 100, device=device)\n",
    "            fake_images = generator_model(noise_vector).detach()\n",
    "            loss_discriminator = -torch.mean(discriminator_model(real_images)) + torch.mean(discriminator_model(fake_images))\n",
    "            loss_discriminator.backward()\n",
    "            optimizer_disc.step()\n",
    "\n",
    "            # Apply weight clipping\n",
    "            for p in discriminator_model.parameters():\n",
    "                p.data.clamp_(-weight_clipping_limit, weight_clipping_limit)\n",
    "\n",
    "            # Train generator every n_critic iterations\n",
    "            if i % n_critic == 0:\n",
    "                optimizer_gen.zero_grad()\n",
    "                generated_images = generator_model(noise_vector)\n",
    "                loss_generator = -torch.mean(discriminator_model(generated_images))\n",
    "                loss_generator.backward()\n",
    "                optimizer_gen.step()\n",
    "\n",
    "        # Compute inception score and generate samples every epoch\n",
    "        test_noise = torch.randn(images.shape[0], 100, device=device)\n",
    "        sample_images = generator_model(test_noise)\n",
    "        sample_images = sample_images.mul(0.5).add(0.5)  # Normalize to [0, 1]\n",
    "\n",
    "        assert 0 <= sample_images.min() and sample_images.max() <= 1\n",
    "        inception_score, inception_score_std = get_inception_score(sample_images)\n",
    "        print(f\"Epoch: {epoch}, Inception Score: {round(inception_score, 2)} ± {round(inception_score_std, 2)}\")\n",
    "\n",
    "        image_grid = utils.make_grid(sample_images[:64].data.cpu())\n",
    "        utils.save_image(image_grid, f'train_generated_images_wgan/epoch_{epoch}.png')\n",
    "        \n",
    "        inception_score_log.write(f'{epoch}, {round(inception_score, 2)}\\n')\n",
    "\n",
    "    inception_score_log.close()\n"
   ]
  },
  {
   "cell_type": "code",
   "execution_count": 7,
   "id": "d5ce2683-e208-4387-8d5e-e3639bfc22f4",
   "metadata": {},
   "outputs": [
    {
     "name": "stdout",
     "output_type": "stream",
     "text": [
      "training WGAN model...\n"
     ]
    },
    {
     "name": "stderr",
     "output_type": "stream",
     "text": [
      "  2%|▏         | 1/50 [00:18<14:55, 18.28s/it]"
     ]
    },
    {
     "name": "stdout",
     "output_type": "stream",
     "text": [
      "Epoch: 0, Inception Score: 1.89 ± 0.22\n"
     ]
    },
    {
     "name": "stderr",
     "output_type": "stream",
     "text": [
      "  4%|▍         | 2/50 [00:33<13:15, 16.58s/it]"
     ]
    },
    {
     "name": "stdout",
     "output_type": "stream",
     "text": [
      "Epoch: 1, Inception Score: 1.83 ± 0.16\n"
     ]
    },
    {
     "name": "stderr",
     "output_type": "stream",
     "text": [
      "  6%|▌         | 3/50 [00:49<12:37, 16.12s/it]"
     ]
    },
    {
     "name": "stdout",
     "output_type": "stream",
     "text": [
      "Epoch: 2, Inception Score: 1.89 ± 0.22\n"
     ]
    },
    {
     "name": "stderr",
     "output_type": "stream",
     "text": [
      "  8%|▊         | 4/50 [01:04<12:09, 15.85s/it]"
     ]
    },
    {
     "name": "stdout",
     "output_type": "stream",
     "text": [
      "Epoch: 3, Inception Score: 1.75 ± 0.22\n"
     ]
    },
    {
     "name": "stderr",
     "output_type": "stream",
     "text": [
      " 10%|█         | 5/50 [01:20<11:47, 15.71s/it]"
     ]
    },
    {
     "name": "stdout",
     "output_type": "stream",
     "text": [
      "Epoch: 4, Inception Score: 1.77 ± 0.2\n"
     ]
    },
    {
     "name": "stderr",
     "output_type": "stream",
     "text": [
      " 12%|█▏        | 6/50 [01:35<11:23, 15.54s/it]"
     ]
    },
    {
     "name": "stdout",
     "output_type": "stream",
     "text": [
      "Epoch: 5, Inception Score: 1.71 ± 0.17\n"
     ]
    },
    {
     "name": "stderr",
     "output_type": "stream",
     "text": [
      " 14%|█▍        | 7/50 [01:51<11:11, 15.61s/it]"
     ]
    },
    {
     "name": "stdout",
     "output_type": "stream",
     "text": [
      "Epoch: 6, Inception Score: 1.86 ± 0.19\n"
     ]
    },
    {
     "name": "stderr",
     "output_type": "stream",
     "text": [
      " 16%|█▌        | 8/50 [02:06<10:55, 15.60s/it]"
     ]
    },
    {
     "name": "stdout",
     "output_type": "stream",
     "text": [
      "Epoch: 7, Inception Score: 1.96 ± 0.25\n"
     ]
    },
    {
     "name": "stderr",
     "output_type": "stream",
     "text": [
      " 18%|█▊        | 9/50 [02:22<10:40, 15.61s/it]"
     ]
    },
    {
     "name": "stdout",
     "output_type": "stream",
     "text": [
      "Epoch: 8, Inception Score: 1.86 ± 0.17\n"
     ]
    },
    {
     "name": "stderr",
     "output_type": "stream",
     "text": [
      " 20%|██        | 10/50 [02:37<10:23, 15.59s/it]"
     ]
    },
    {
     "name": "stdout",
     "output_type": "stream",
     "text": [
      "Epoch: 9, Inception Score: 1.76 ± 0.23\n"
     ]
    },
    {
     "name": "stderr",
     "output_type": "stream",
     "text": [
      " 22%|██▏       | 11/50 [02:53<10:04, 15.50s/it]"
     ]
    },
    {
     "name": "stdout",
     "output_type": "stream",
     "text": [
      "Epoch: 10, Inception Score: 1.66 ± 0.14\n"
     ]
    },
    {
     "name": "stderr",
     "output_type": "stream",
     "text": [
      " 24%|██▍       | 12/50 [03:08<09:47, 15.46s/it]"
     ]
    },
    {
     "name": "stdout",
     "output_type": "stream",
     "text": [
      "Epoch: 11, Inception Score: 1.82 ± 0.28\n"
     ]
    },
    {
     "name": "stderr",
     "output_type": "stream",
     "text": [
      " 26%|██▌       | 13/50 [03:23<09:31, 15.45s/it]"
     ]
    },
    {
     "name": "stdout",
     "output_type": "stream",
     "text": [
      "Epoch: 12, Inception Score: 1.81 ± 0.2\n"
     ]
    },
    {
     "name": "stderr",
     "output_type": "stream",
     "text": [
      " 28%|██▊       | 14/50 [03:39<09:16, 15.47s/it]"
     ]
    },
    {
     "name": "stdout",
     "output_type": "stream",
     "text": [
      "Epoch: 13, Inception Score: 1.87 ± 0.23\n"
     ]
    },
    {
     "name": "stderr",
     "output_type": "stream",
     "text": [
      " 30%|███       | 15/50 [03:54<09:01, 15.47s/it]"
     ]
    },
    {
     "name": "stdout",
     "output_type": "stream",
     "text": [
      "Epoch: 14, Inception Score: 1.9 ± 0.27\n"
     ]
    },
    {
     "name": "stderr",
     "output_type": "stream",
     "text": [
      " 32%|███▏      | 16/50 [04:10<08:47, 15.51s/it]"
     ]
    },
    {
     "name": "stdout",
     "output_type": "stream",
     "text": [
      "Epoch: 15, Inception Score: 1.8 ± 0.25\n"
     ]
    },
    {
     "name": "stderr",
     "output_type": "stream",
     "text": [
      " 34%|███▍      | 17/50 [04:26<08:35, 15.63s/it]"
     ]
    },
    {
     "name": "stdout",
     "output_type": "stream",
     "text": [
      "Epoch: 16, Inception Score: 1.87 ± 0.22\n"
     ]
    },
    {
     "name": "stderr",
     "output_type": "stream",
     "text": [
      " 36%|███▌      | 18/50 [04:42<08:22, 15.70s/it]"
     ]
    },
    {
     "name": "stdout",
     "output_type": "stream",
     "text": [
      "Epoch: 17, Inception Score: 1.94 ± 0.32\n"
     ]
    },
    {
     "name": "stderr",
     "output_type": "stream",
     "text": [
      " 38%|███▊      | 19/50 [04:57<07:59, 15.46s/it]"
     ]
    },
    {
     "name": "stdout",
     "output_type": "stream",
     "text": [
      "Epoch: 18, Inception Score: 1.87 ± 0.25\n"
     ]
    },
    {
     "name": "stderr",
     "output_type": "stream",
     "text": [
      " 40%|████      | 20/50 [05:12<07:40, 15.36s/it]"
     ]
    },
    {
     "name": "stdout",
     "output_type": "stream",
     "text": [
      "Epoch: 19, Inception Score: 1.81 ± 0.3\n"
     ]
    },
    {
     "name": "stderr",
     "output_type": "stream",
     "text": [
      " 42%|████▏     | 21/50 [05:29<07:41, 15.91s/it]"
     ]
    },
    {
     "name": "stdout",
     "output_type": "stream",
     "text": [
      "Epoch: 20, Inception Score: 2.05 ± 0.22\n"
     ]
    },
    {
     "name": "stderr",
     "output_type": "stream",
     "text": [
      " 44%|████▍     | 22/50 [05:44<07:18, 15.68s/it]"
     ]
    },
    {
     "name": "stdout",
     "output_type": "stream",
     "text": [
      "Epoch: 21, Inception Score: 1.78 ± 0.15\n"
     ]
    },
    {
     "name": "stderr",
     "output_type": "stream",
     "text": [
      " 46%|████▌     | 23/50 [05:59<06:58, 15.51s/it]"
     ]
    },
    {
     "name": "stdout",
     "output_type": "stream",
     "text": [
      "Epoch: 22, Inception Score: 1.95 ± 0.26\n"
     ]
    },
    {
     "name": "stderr",
     "output_type": "stream",
     "text": [
      " 48%|████▊     | 24/50 [06:14<06:39, 15.38s/it]"
     ]
    },
    {
     "name": "stdout",
     "output_type": "stream",
     "text": [
      "Epoch: 23, Inception Score: 1.94 ± 0.28\n"
     ]
    },
    {
     "name": "stderr",
     "output_type": "stream",
     "text": [
      " 50%|█████     | 25/50 [06:29<06:21, 15.27s/it]"
     ]
    },
    {
     "name": "stdout",
     "output_type": "stream",
     "text": [
      "Epoch: 24, Inception Score: 2.07 ± 0.24\n"
     ]
    },
    {
     "name": "stderr",
     "output_type": "stream",
     "text": [
      " 52%|█████▏    | 26/50 [06:45<06:09, 15.41s/it]"
     ]
    },
    {
     "name": "stdout",
     "output_type": "stream",
     "text": [
      "Epoch: 25, Inception Score: 1.86 ± 0.27\n"
     ]
    },
    {
     "name": "stderr",
     "output_type": "stream",
     "text": [
      " 54%|█████▍    | 27/50 [07:00<05:51, 15.27s/it]"
     ]
    },
    {
     "name": "stdout",
     "output_type": "stream",
     "text": [
      "Epoch: 26, Inception Score: 2.04 ± 0.43\n"
     ]
    },
    {
     "name": "stderr",
     "output_type": "stream",
     "text": [
      " 56%|█████▌    | 28/50 [07:15<05:35, 15.25s/it]"
     ]
    },
    {
     "name": "stdout",
     "output_type": "stream",
     "text": [
      "Epoch: 27, Inception Score: 1.76 ± 0.24\n"
     ]
    },
    {
     "name": "stderr",
     "output_type": "stream",
     "text": [
      " 58%|█████▊    | 29/50 [07:30<05:19, 15.23s/it]"
     ]
    },
    {
     "name": "stdout",
     "output_type": "stream",
     "text": [
      "Epoch: 28, Inception Score: 1.8 ± 0.12\n"
     ]
    },
    {
     "name": "stderr",
     "output_type": "stream",
     "text": [
      " 60%|██████    | 30/50 [07:46<05:04, 15.24s/it]"
     ]
    },
    {
     "name": "stdout",
     "output_type": "stream",
     "text": [
      "Epoch: 29, Inception Score: 2.04 ± 0.39\n"
     ]
    },
    {
     "name": "stderr",
     "output_type": "stream",
     "text": [
      " 62%|██████▏   | 31/50 [08:01<04:48, 15.18s/it]"
     ]
    },
    {
     "name": "stdout",
     "output_type": "stream",
     "text": [
      "Epoch: 30, Inception Score: 1.95 ± 0.17\n"
     ]
    },
    {
     "name": "stderr",
     "output_type": "stream",
     "text": [
      " 64%|██████▍   | 32/50 [08:16<04:33, 15.20s/it]"
     ]
    },
    {
     "name": "stdout",
     "output_type": "stream",
     "text": [
      "Epoch: 31, Inception Score: 2.09 ± 0.22\n"
     ]
    },
    {
     "name": "stderr",
     "output_type": "stream",
     "text": [
      " 66%|██████▌   | 33/50 [08:31<04:16, 15.10s/it]"
     ]
    },
    {
     "name": "stdout",
     "output_type": "stream",
     "text": [
      "Epoch: 32, Inception Score: 1.92 ± 0.29\n"
     ]
    },
    {
     "name": "stderr",
     "output_type": "stream",
     "text": [
      " 68%|██████▊   | 34/50 [08:45<03:57, 14.84s/it]"
     ]
    },
    {
     "name": "stdout",
     "output_type": "stream",
     "text": [
      "Epoch: 33, Inception Score: 1.85 ± 0.15\n"
     ]
    },
    {
     "name": "stderr",
     "output_type": "stream",
     "text": [
      " 70%|███████   | 35/50 [09:00<03:44, 14.99s/it]"
     ]
    },
    {
     "name": "stdout",
     "output_type": "stream",
     "text": [
      "Epoch: 34, Inception Score: 1.79 ± 0.24\n"
     ]
    },
    {
     "name": "stderr",
     "output_type": "stream",
     "text": [
      " 72%|███████▏  | 36/50 [09:18<03:42, 15.87s/it]"
     ]
    },
    {
     "name": "stdout",
     "output_type": "stream",
     "text": [
      "Epoch: 35, Inception Score: 2.03 ± 0.42\n",
      "Epoch: 36, Inception Score: 1.89 ± 0.33\n"
     ]
    },
    {
     "name": "stderr",
     "output_type": "stream",
     "text": [
      " 76%|███████▌  | 38/50 [09:53<03:21, 16.76s/it]"
     ]
    },
    {
     "name": "stdout",
     "output_type": "stream",
     "text": [
      "Epoch: 37, Inception Score: 2.01 ± 0.44\n",
      "Epoch: 38, Inception Score: 1.85 ± 0.26\n"
     ]
    },
    {
     "name": "stderr",
     "output_type": "stream",
     "text": [
      " 80%|████████  | 40/50 [10:26<02:45, 16.50s/it]"
     ]
    },
    {
     "name": "stdout",
     "output_type": "stream",
     "text": [
      "Epoch: 39, Inception Score: 1.85 ± 0.2\n"
     ]
    },
    {
     "name": "stderr",
     "output_type": "stream",
     "text": [
      " 82%|████████▏ | 41/50 [10:42<02:28, 16.46s/it]"
     ]
    },
    {
     "name": "stdout",
     "output_type": "stream",
     "text": [
      "Epoch: 40, Inception Score: 1.88 ± 0.26\n"
     ]
    },
    {
     "name": "stderr",
     "output_type": "stream",
     "text": [
      " 84%|████████▍ | 42/50 [11:01<02:17, 17.14s/it]"
     ]
    },
    {
     "name": "stdout",
     "output_type": "stream",
     "text": [
      "Epoch: 41, Inception Score: 1.97 ± 0.32\n",
      "Epoch: 42, Inception Score: 1.95 ± 0.26\n"
     ]
    },
    {
     "name": "stderr",
     "output_type": "stream",
     "text": [
      " 88%|████████▊ | 44/50 [11:34<01:40, 16.82s/it]"
     ]
    },
    {
     "name": "stdout",
     "output_type": "stream",
     "text": [
      "Epoch: 43, Inception Score: 1.79 ± 0.24\n"
     ]
    },
    {
     "name": "stderr",
     "output_type": "stream",
     "text": [
      " 90%|█████████ | 45/50 [11:52<01:25, 17.03s/it]"
     ]
    },
    {
     "name": "stdout",
     "output_type": "stream",
     "text": [
      "Epoch: 44, Inception Score: 2.05 ± 0.25\n"
     ]
    },
    {
     "name": "stderr",
     "output_type": "stream",
     "text": [
      " 92%|█████████▏| 46/50 [12:10<01:09, 17.29s/it]"
     ]
    },
    {
     "name": "stdout",
     "output_type": "stream",
     "text": [
      "Epoch: 45, Inception Score: 2.09 ± 0.33\n"
     ]
    },
    {
     "name": "stderr",
     "output_type": "stream",
     "text": [
      " 94%|█████████▍| 47/50 [12:27<00:51, 17.33s/it]"
     ]
    },
    {
     "name": "stdout",
     "output_type": "stream",
     "text": [
      "Epoch: 46, Inception Score: 1.84 ± 0.26\n"
     ]
    },
    {
     "name": "stderr",
     "output_type": "stream",
     "text": [
      " 96%|█████████▌| 48/50 [12:43<00:33, 16.93s/it]"
     ]
    },
    {
     "name": "stdout",
     "output_type": "stream",
     "text": [
      "Epoch: 47, Inception Score: 1.96 ± 0.38\n"
     ]
    },
    {
     "name": "stderr",
     "output_type": "stream",
     "text": [
      " 98%|█████████▊| 49/50 [13:00<00:17, 17.01s/it]"
     ]
    },
    {
     "name": "stdout",
     "output_type": "stream",
     "text": [
      "Epoch: 48, Inception Score: 1.9 ± 0.18\n"
     ]
    },
    {
     "name": "stderr",
     "output_type": "stream",
     "text": [
      "100%|██████████| 50/50 [13:17<00:00, 15.95s/it]"
     ]
    },
    {
     "name": "stdout",
     "output_type": "stream",
     "text": [
      "Epoch: 49, Inception Score: 2.04 ± 0.41\n",
      "saving WGAN model to file...\n"
     ]
    },
    {
     "name": "stderr",
     "output_type": "stream",
     "text": [
      "\n"
     ]
    }
   ],
   "source": [
    "# train WGAN\n",
    "print(\"training WGAN model...\")\n",
    "train_wgan(wgan_generator_instance, wgan_discriminator_instance, train_CIFAR10_dataloader)\n",
    "print(\"saving WGAN model to file...\")\n",
    "torch.save(wgan_generator_instance.state_dict(), 'wgan_generator.pkl')\n",
    "torch.save(wgan_discriminator_instance.state_dict(), 'wgan_discriminator.pkl')"
   ]
  },
  {
   "cell_type": "code",
   "execution_count": null,
   "id": "0acbe7c4-ffe4-4255-b595-452b6b06b15b",
   "metadata": {},
   "outputs": [],
   "source": []
  },
  {
   "cell_type": "code",
   "execution_count": 15,
   "id": "7c63cf79-9aa9-4c3a-a03c-91bc7f5fdba4",
   "metadata": {},
   "outputs": [
    {
     "name": "stdout",
     "output_type": "stream",
     "text": [
      "Loading WGAN model...\n",
      "Grid of 8x8 images saved to 'wgan_generated_images.png'.\n"
     ]
    }
   ],
   "source": [
    "def generate_sample_images(generator_model):\n",
    "    noise_vector = Variable(torch.cuda.FloatTensor(np.random.normal(0, 1, (batch_size, 100))))\n",
    "    generated_samples = generator_model(noise_vector)\n",
    "    generated_samples = generated_samples.mul(0.5).add(0.5)  # Normalize images to [0, 1]\n",
    "    generated_samples = generated_samples.data.cpu()\n",
    "    image_grid = utils.make_grid(generated_samples)\n",
    "    print(\"Grid of 8x8 images saved to 'wgan_generated_images.png'.\")\n",
    "    utils.save_image(image_grid, 'wgan_generated_images.png')\n",
    "\n",
    "def load_trained_model(model_instance, model_path):\n",
    "    model_instance.load_state_dict(torch.load(model_path))\n",
    "\n",
    "# Assuming wgan_generator and wgan_discriminator have been instantiated and `device` is defined.\n",
    "print(\"Loading WGAN model...\")\n",
    "load_trained_model(wgan_generator_instance, 'wgan_generator.pkl')\n",
    "load_trained_model(wgan_discriminator_instance, 'wgan_discriminator.pkl')\n",
    "\n",
    "generate_sample_images(wgan_generator_instance)"
   ]
  },
  {
   "cell_type": "code",
   "execution_count": null,
   "id": "18d60020-1c03-4333-9d39-94bb337ccd55",
   "metadata": {},
   "outputs": [],
   "source": []
  },
  {
   "cell_type": "code",
   "execution_count": 16,
   "id": "bd4414da-77d2-4691-9d93-7d40769946e1",
   "metadata": {},
   "outputs": [],
   "source": [
    "def generate_best_sample_images(generator_model, discriminator_model, num_images=100):\n",
    "    # Generate noise vector correctly shaped for a linear layer\n",
    "    noise_vector = torch.randn(num_images, 100).to(device)  # Remove the 1,1 dimensions\n",
    "\n",
    "    generated_samples = generator_model(noise_vector)\n",
    "    generated_samples = generated_samples.mul(0.5).add(0.5)  # Normalize images to [0, 1]\n",
    "\n",
    "    # Evaluate images with the discriminator to get scores\n",
    "    with torch.no_grad():\n",
    "        scores = discriminator_model(generated_samples).view(-1)\n",
    "\n",
    "    # Sort images by discriminator scores in descending order and pick the top 10\n",
    "    _, top_indices = torch.topk(scores, 10)\n",
    "    best_samples = generated_samples[top_indices]\n",
    "\n",
    "    # Move the best samples to CPU and make a grid\n",
    "    best_samples = best_samples.data.cpu()\n",
    "    image_grid = utils.make_grid(best_samples, nrow=5)  # Arrange grid with 5 images per row\n",
    "    print(\"Grid of the 10 best images saved to 'wgan_best_images.png'.\")\n",
    "    utils.save_image(image_grid, 'wgan_best_images.png')\n"
   ]
  },
  {
   "cell_type": "code",
   "execution_count": 17,
   "id": "9efc4f79-6a4b-4510-9f44-79e75e07d910",
   "metadata": {},
   "outputs": [
    {
     "name": "stdout",
     "output_type": "stream",
     "text": [
      "Loading WGAN model...\n",
      "Grid of the 10 best images saved to 'wgan_best_images.png'.\n"
     ]
    }
   ],
   "source": [
    "print(\"Loading WGAN model...\")\n",
    "load_trained_model(wgan_generator_instance, 'wgan_generator.pkl')\n",
    "load_trained_model(wgan_discriminator_instance, 'wgan_discriminator.pkl')\n",
    "generate_best_sample_images(wgan_generator_instance, wgan_discriminator_instance)"
   ]
  },
  {
   "cell_type": "code",
   "execution_count": null,
   "id": "69f9ac6e-cda9-4c8d-a4bb-71e32233daa5",
   "metadata": {},
   "outputs": [],
   "source": []
  },
  {
   "cell_type": "code",
   "execution_count": null,
   "id": "0c3c2f0d-cf26-4716-bffd-b623e8ee0685",
   "metadata": {},
   "outputs": [],
   "source": []
  },
  {
   "cell_type": "code",
   "execution_count": null,
   "id": "a24a442c-9029-4ffb-a1f8-cf89a5452a42",
   "metadata": {},
   "outputs": [],
   "source": []
  },
  {
   "cell_type": "code",
   "execution_count": null,
   "id": "f0ce2cd9-21d4-4156-9be4-f2b22a054bfb",
   "metadata": {},
   "outputs": [],
   "source": []
  },
  {
   "cell_type": "code",
   "execution_count": null,
   "id": "32719b1c-1d38-48d7-af2b-607f5fd31f4f",
   "metadata": {},
   "outputs": [],
   "source": []
  },
  {
   "cell_type": "code",
   "execution_count": null,
   "id": "f34af583-15d3-4d32-a5ee-912f3bee6fbf",
   "metadata": {},
   "outputs": [],
   "source": []
  },
  {
   "cell_type": "code",
   "execution_count": null,
   "id": "d5e5672a-327f-4151-8bae-d3ed81c23e5c",
   "metadata": {},
   "outputs": [],
   "source": []
  },
  {
   "cell_type": "code",
   "execution_count": null,
   "id": "def0c0b3-f8bf-42f8-b4e5-fd9343397bc5",
   "metadata": {},
   "outputs": [],
   "source": []
  },
  {
   "cell_type": "code",
   "execution_count": null,
   "id": "9a47a660-c1d9-4e12-9f48-4a2cb9a23a7e",
   "metadata": {},
   "outputs": [],
   "source": []
  },
  {
   "cell_type": "code",
   "execution_count": null,
   "id": "f729bfb9-59e6-4b77-9019-36c7bfb26e1f",
   "metadata": {},
   "outputs": [],
   "source": []
  },
  {
   "cell_type": "code",
   "execution_count": null,
   "id": "73a09047-8922-450d-b2f8-3d35ff7d7408",
   "metadata": {},
   "outputs": [],
   "source": []
  },
  {
   "cell_type": "code",
   "execution_count": null,
   "id": "14f62313-f68f-4b71-813f-953639205110",
   "metadata": {},
   "outputs": [],
   "source": []
  },
  {
   "cell_type": "code",
   "execution_count": null,
   "id": "be6d9b78-7c14-4057-bbb9-8812bbc10ce9",
   "metadata": {},
   "outputs": [],
   "source": []
  },
  {
   "cell_type": "code",
   "execution_count": null,
   "id": "2e04186b-e19c-4dca-9158-53c933468c2f",
   "metadata": {},
   "outputs": [],
   "source": []
  }
 ],
 "metadata": {
  "kernelspec": {
   "display_name": "pytorch4d]",
   "language": "python",
   "name": "pytorch4d"
  },
  "language_info": {
   "codemirror_mode": {
    "name": "ipython",
    "version": 3
   },
   "file_extension": ".py",
   "mimetype": "text/x-python",
   "name": "python",
   "nbconvert_exporter": "python",
   "pygments_lexer": "ipython3",
   "version": "3.9.18"
  }
 },
 "nbformat": 4,
 "nbformat_minor": 5
}
