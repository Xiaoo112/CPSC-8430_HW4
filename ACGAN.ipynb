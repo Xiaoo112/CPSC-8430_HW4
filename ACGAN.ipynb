{
 "cells": [
  {
   "cell_type": "code",
   "execution_count": 2,
   "id": "bb4c4d12-88a0-440f-846e-506df4de49b5",
   "metadata": {},
   "outputs": [
    {
     "name": "stdout",
     "output_type": "stream",
     "text": [
      "Using device: cuda\n"
     ]
    }
   ],
   "source": [
    "import torch\n",
    "import torchvision\n",
    "from torchvision import utils\n",
    "from torch.utils.data import DataLoader\n",
    "from torch import nn\n",
    "from torch.autograd import Variable\n",
    "from pytorch_gan_metrics import get_inception_score\n",
    "from tqdm import tqdm\n",
    "import os\n",
    "import numpy as np\n",
    "\n",
    "device = torch.device('cuda' if torch.cuda.is_available() else 'cpu')\n",
    "print(\"Using device:\", device)"
   ]
  },
  {
   "cell_type": "code",
   "execution_count": null,
   "id": "aced4edb-0984-4a9a-a09f-e143b04660f0",
   "metadata": {},
   "outputs": [],
   "source": []
  },
  {
   "cell_type": "code",
   "execution_count": 3,
   "id": "a463100e-6e83-4c67-b969-b7b66b53ad2b",
   "metadata": {},
   "outputs": [],
   "source": [
    "batch_size = 64\n",
    "transform = torchvision.transforms.Compose([\n",
    "    torchvision.transforms.ToTensor(), \n",
    "    torchvision.transforms.Resize(32), \n",
    "    torchvision.transforms.Normalize((0.5, 0.5, 0.5), (0.5, 0.5, 0.5))])"
   ]
  },
  {
   "cell_type": "code",
   "execution_count": null,
   "id": "7144d50f-021f-4d46-b8f7-d94fd77fb1a0",
   "metadata": {},
   "outputs": [],
   "source": []
  },
  {
   "cell_type": "code",
   "execution_count": 4,
   "id": "a086e394-b119-42a3-8319-6522f37cc377",
   "metadata": {},
   "outputs": [
    {
     "name": "stdout",
     "output_type": "stream",
     "text": [
      "Files already downloaded and verified\n",
      "Files already downloaded and verified\n",
      "########################################\n",
      "CIFAR10 dataloader Generated\n"
     ]
    }
   ],
   "source": [
    "train_CIFAR10_set = torchvision.datasets.CIFAR10(root='./cifar10/', train=True, download=True, transform=transform)\n",
    "test_CIFAR10_set = torchvision.datasets.CIFAR10(root='./cifar10/', train=False, download=True, transform=transform)\n",
    "\n",
    "train_CIFAR10_dataloader = DataLoader(train_CIFAR10_set, batch_size=batch_size, shuffle=True, drop_last=True)\n",
    "test_CIFAR10_dataloader = DataLoader(test_CIFAR10_set, batch_size=batch_size, shuffle=True, drop_last=True)\n",
    "\n",
    "print('#' * 40)\n",
    "print(\"CIFAR10 dataloader Generated\")\n"
   ]
  },
  {
   "cell_type": "code",
   "execution_count": null,
   "id": "f313f505-b7b3-42f2-9ad4-2ce3d4c82feb",
   "metadata": {},
   "outputs": [],
   "source": []
  },
  {
   "cell_type": "code",
   "execution_count": 5,
   "id": "838cb6b2-64a3-4da2-975c-acb029dc127c",
   "metadata": {},
   "outputs": [
    {
     "name": "stdout",
     "output_type": "stream",
     "text": [
      "Instantiating ACGAN generator and discriminator...\n",
      "Models are set up and moved to the device.\n"
     ]
    }
   ],
   "source": [
    "class GeneratorACGAN(nn.Module):\n",
    "    def __init__(self):\n",
    "        super(GeneratorACGAN, self).__init__()\n",
    "        self.embedding = nn.Embedding(10, 100)\n",
    "        self.fully_connected = nn.Linear(100, 128 * 64)  # Simplified expression for 128 * 8 * 8\n",
    "        self.generator_network = nn.Sequential(\n",
    "            nn.BatchNorm2d(128),\n",
    "            nn.Upsample(scale_factor=2),\n",
    "            nn.Conv2d(128, 128, 3, stride=1, padding=1),\n",
    "            nn.BatchNorm2d(128, 0.8),\n",
    "            nn.LeakyReLU(0.2, inplace=True),\n",
    "            nn.Upsample(scale_factor=2),\n",
    "            nn.Conv2d(128, 64, 3, stride=1, padding=1),\n",
    "            nn.BatchNorm2d(64, 0.8),\n",
    "            nn.LeakyReLU(0.2, inplace=True),\n",
    "            nn.Conv2d(64, 3, 3, stride=1, padding=1),\n",
    "            nn.Tanh()\n",
    "        )\n",
    "\n",
    "    def forward(self, noise, labels):\n",
    "        combined_input = torch.mul(self.embedding(labels), noise)\n",
    "        transformed_input = self.fully_connected(combined_input)\n",
    "        reshaped_input = transformed_input.view(transformed_input.shape[0], 128, 8, 8)\n",
    "        output_image = self.generator_network(reshaped_input)\n",
    "        return output_image\n",
    "\n",
    "class DiscriminatorACGAN(nn.Module):\n",
    "    def __init__(self):\n",
    "        super(DiscriminatorACGAN, self).__init__()\n",
    "\n",
    "        def discriminator_block(input_channels, output_channels, use_batchnorm=True):\n",
    "            layers = [nn.Conv2d(input_channels, output_channels, 3, 2, 1), nn.LeakyReLU(0.2, inplace=True), nn.Dropout2d(0.25)]\n",
    "            if use_batchnorm:\n",
    "                layers.append(nn.BatchNorm2d(output_channels, 0.8))\n",
    "            return layers\n",
    "\n",
    "        self.discriminator_network = nn.Sequential(\n",
    "            *discriminator_block(3, 16, use_batchnorm=False),\n",
    "            *discriminator_block(16, 32),\n",
    "            *discriminator_block(32, 64),\n",
    "            *discriminator_block(64, 128),\n",
    "        )\n",
    "\n",
    "        self.adversarial_layer = nn.Sequential(nn.Linear(128 * 4, 1), nn.Sigmoid())\n",
    "        self.classification_layer = nn.Sequential(nn.Linear(128 * 4, 10), nn.Softmax(dim=1))\n",
    "\n",
    "    def forward(self, image):\n",
    "        processed_image = self.discriminator_network(image)\n",
    "        flattened_output = processed_image.view(processed_image.shape[0], -1)\n",
    "        validity_output = self.adversarial_layer(flattened_output)\n",
    "        label_output = self.classification_layer(flattened_output)\n",
    "        return validity_output, label_output\n",
    "\n",
    "print(\"Instantiating ACGAN generator and discriminator...\")\n",
    "acgan_generator_instance = GeneratorACGAN().to(device)\n",
    "acgan_discriminator_instance = DiscriminatorACGAN().to(device)\n",
    "print(\"Models are set up and moved to the device.\")\n"
   ]
  },
  {
   "cell_type": "code",
   "execution_count": null,
   "id": "3976c2e3-2459-4f57-82f1-2bf894eb0b24",
   "metadata": {},
   "outputs": [],
   "source": []
  },
  {
   "cell_type": "code",
   "execution_count": 6,
   "id": "d8b7bbe9-971a-43bc-95a9-1ce14f62dbbd",
   "metadata": {},
   "outputs": [],
   "source": [
    "epochs = 50\n",
    "learning_rate = 2e-4\n",
    "\n",
    "def train_acgan(generator_model, discriminator_model, data_loader):\n",
    "    source_loss = nn.BCELoss()\n",
    "    class_loss = nn.NLLLoss()\n",
    "    optimizer_gen = torch.optim.Adam(generator_model.parameters(), lr=learning_rate, betas=(0.5, 0.999))\n",
    "    optimizer_disc = torch.optim.Adam(discriminator_model.parameters(), lr=learning_rate, betas=(0.5, 0.999))\n",
    "\n",
    "    if not os.path.exists('train_generated_images_acgan_real/'): \n",
    "        os.makedirs('train_generated_images_acgan_real')\n",
    "    if not os.path.exists('train_generated_images_acgan_fake/'): \n",
    "        os.makedirs('train_generated_images_acgan_fake')\n",
    "        \n",
    "    inception_log_file = open(\"inception_score_acgan.csv\", \"w\")\n",
    "    inception_log_file.write('epoch, inception_score \\n')\n",
    "\n",
    "    for epoch in tqdm(range(epochs)): \n",
    "        for real_images, real_labels in data_loader:\n",
    "            current_batch_size = real_images.shape[0]\n",
    "            real_images = Variable(real_images.type(torch.cuda.FloatTensor)).to(device)\n",
    "            real_labels = Variable(real_labels.type(torch.cuda.LongTensor)).to(device)\n",
    "\n",
    "            valid_labels = torch.ones(current_batch_size).to(device)\n",
    "            fake_labels = torch.zeros(current_batch_size).to(device)\n",
    "\n",
    "            ### Train generator\n",
    "            optimizer_gen.zero_grad()\n",
    "            noise_vector = Variable(torch.cuda.FloatTensor(np.random.normal(0, 1, (current_batch_size, 100))))\n",
    "            random_labels = Variable(torch.cuda.LongTensor(np.random.randint(0, 10, current_batch_size)))\n",
    "\n",
    "            generated_images = generator_model(noise_vector, random_labels)\n",
    "            validity, predicted_labels = discriminator_model(generated_images)\n",
    "            generator_loss = 0.5 * (source_loss(validity, valid_labels.unsqueeze(1)) + class_loss(predicted_labels, random_labels))\n",
    "            generator_loss.backward()\n",
    "            optimizer_gen.step()\n",
    "\n",
    "            ### Train discriminator\n",
    "            optimizer_disc.zero_grad()\n",
    "\n",
    "            real_validity, real_predicted_labels = discriminator_model(real_images)\n",
    "            loss_real = 0.5 * (source_loss(real_validity, valid_labels.unsqueeze(1)) + class_loss(real_predicted_labels, real_labels))\n",
    "\n",
    "            fake_validity, fake_predicted_labels = discriminator_model(generated_images.detach())\n",
    "            loss_fake = 0.5 * (source_loss(fake_validity, fake_labels.unsqueeze(1)) + class_loss(fake_predicted_labels, random_labels))\n",
    "\n",
    "            discriminator_loss = 0.5 * (loss_real + loss_fake)\n",
    "            discriminator_loss.backward()\n",
    "            optimizer_disc.step()\n",
    "\n",
    "        # Evaluate and save generated samples every epoch\n",
    "        test_noise_vector = Variable(torch.cuda.FloatTensor(np.random.normal(0, 1, (current_batch_size, 100))))\n",
    "        test_random_labels = Variable(torch.cuda.LongTensor(np.random.randint(0, 10, current_batch_size)))\n",
    "        samples = generator_model(test_noise_vector, test_random_labels)\n",
    "\n",
    "        samples = samples.mul(0.5).add(0.5)\n",
    "        \n",
    "        assert 0 <= samples.min() and samples.max() <= 1\n",
    "        inception_score, std_dev_inception = get_inception_score(samples)\n",
    "        print(f\"Epoch: {epoch}, Inception Score: {round(inception_score, 2)} ± {round(std_dev_inception, 2)}\")\n",
    "\n",
    "        samples = samples[:64].data.cpu()\n",
    "        utils.save_image(samples, f'train_generated_images_acgan_fake/epoch_{epoch}.png')\n",
    "        utils.save_image(real_images, f'train_generated_images_acgan_real/epoch_{epoch}.png')\n",
    "        \n",
    "        inception_log_file.write(f\"{epoch}, {round(inception_score, 2)}\\n\")\n",
    "\n",
    "    inception_log_file.close()\n"
   ]
  },
  {
   "cell_type": "code",
   "execution_count": null,
   "id": "7431c8fd-5f0a-47ce-a0d4-f6747fc31943",
   "metadata": {},
   "outputs": [],
   "source": []
  },
  {
   "cell_type": "code",
   "execution_count": 7,
   "id": "a16c79eb-12d9-4c99-ad24-5ac1d3feacb9",
   "metadata": {},
   "outputs": [
    {
     "name": "stdout",
     "output_type": "stream",
     "text": [
      "training ACGAN model...\n"
     ]
    },
    {
     "name": "stderr",
     "output_type": "stream",
     "text": [
      "  2%|▏         | 1/50 [00:23<19:17, 23.63s/it]"
     ]
    },
    {
     "name": "stdout",
     "output_type": "stream",
     "text": [
      "Epoch: 0, Inception Score: 1.48 ± 0.14\n"
     ]
    },
    {
     "name": "stderr",
     "output_type": "stream",
     "text": [
      "  4%|▍         | 2/50 [00:45<17:52, 22.34s/it]"
     ]
    },
    {
     "name": "stdout",
     "output_type": "stream",
     "text": [
      "Epoch: 1, Inception Score: 1.53 ± 0.19\n"
     ]
    },
    {
     "name": "stderr",
     "output_type": "stream",
     "text": [
      "  6%|▌         | 3/50 [01:06<17:17, 22.07s/it]"
     ]
    },
    {
     "name": "stdout",
     "output_type": "stream",
     "text": [
      "Epoch: 2, Inception Score: 1.49 ± 0.19\n"
     ]
    },
    {
     "name": "stderr",
     "output_type": "stream",
     "text": [
      "  8%|▊         | 4/50 [01:27<16:37, 21.68s/it]"
     ]
    },
    {
     "name": "stdout",
     "output_type": "stream",
     "text": [
      "Epoch: 3, Inception Score: 1.56 ± 0.11\n"
     ]
    },
    {
     "name": "stderr",
     "output_type": "stream",
     "text": [
      " 10%|█         | 5/50 [01:48<15:55, 21.24s/it]"
     ]
    },
    {
     "name": "stdout",
     "output_type": "stream",
     "text": [
      "Epoch: 4, Inception Score: 1.69 ± 0.12\n"
     ]
    },
    {
     "name": "stderr",
     "output_type": "stream",
     "text": [
      " 12%|█▏        | 6/50 [02:08<15:25, 21.03s/it]"
     ]
    },
    {
     "name": "stdout",
     "output_type": "stream",
     "text": [
      "Epoch: 5, Inception Score: 1.61 ± 0.2\n"
     ]
    },
    {
     "name": "stderr",
     "output_type": "stream",
     "text": [
      " 14%|█▍        | 7/50 [02:30<15:13, 21.25s/it]"
     ]
    },
    {
     "name": "stdout",
     "output_type": "stream",
     "text": [
      "Epoch: 6, Inception Score: 1.57 ± 0.14\n"
     ]
    },
    {
     "name": "stderr",
     "output_type": "stream",
     "text": [
      " 16%|█▌        | 8/50 [02:53<15:15, 21.80s/it]"
     ]
    },
    {
     "name": "stdout",
     "output_type": "stream",
     "text": [
      "Epoch: 7, Inception Score: 1.57 ± 0.13\n"
     ]
    },
    {
     "name": "stderr",
     "output_type": "stream",
     "text": [
      " 18%|█▊        | 9/50 [03:16<15:11, 22.23s/it]"
     ]
    },
    {
     "name": "stdout",
     "output_type": "stream",
     "text": [
      "Epoch: 8, Inception Score: 1.63 ± 0.16\n"
     ]
    },
    {
     "name": "stderr",
     "output_type": "stream",
     "text": [
      " 20%|██        | 10/50 [03:39<14:59, 22.48s/it]"
     ]
    },
    {
     "name": "stdout",
     "output_type": "stream",
     "text": [
      "Epoch: 9, Inception Score: 1.66 ± 0.17\n"
     ]
    },
    {
     "name": "stderr",
     "output_type": "stream",
     "text": [
      " 22%|██▏       | 11/50 [04:03<14:45, 22.70s/it]"
     ]
    },
    {
     "name": "stdout",
     "output_type": "stream",
     "text": [
      "Epoch: 10, Inception Score: 1.72 ± 0.14\n"
     ]
    },
    {
     "name": "stderr",
     "output_type": "stream",
     "text": [
      " 24%|██▍       | 12/50 [04:25<14:15, 22.50s/it]"
     ]
    },
    {
     "name": "stdout",
     "output_type": "stream",
     "text": [
      "Epoch: 11, Inception Score: 1.7 ± 0.17\n"
     ]
    },
    {
     "name": "stderr",
     "output_type": "stream",
     "text": [
      " 26%|██▌       | 13/50 [04:46<13:41, 22.20s/it]"
     ]
    },
    {
     "name": "stdout",
     "output_type": "stream",
     "text": [
      "Epoch: 12, Inception Score: 1.69 ± 0.19\n"
     ]
    },
    {
     "name": "stderr",
     "output_type": "stream",
     "text": [
      " 28%|██▊       | 14/50 [05:07<13:07, 21.88s/it]"
     ]
    },
    {
     "name": "stdout",
     "output_type": "stream",
     "text": [
      "Epoch: 13, Inception Score: 1.72 ± 0.19\n"
     ]
    },
    {
     "name": "stderr",
     "output_type": "stream",
     "text": [
      " 30%|███       | 15/50 [05:28<12:31, 21.46s/it]"
     ]
    },
    {
     "name": "stdout",
     "output_type": "stream",
     "text": [
      "Epoch: 14, Inception Score: 1.61 ± 0.11\n"
     ]
    },
    {
     "name": "stderr",
     "output_type": "stream",
     "text": [
      " 32%|███▏      | 16/50 [05:48<12:01, 21.22s/it]"
     ]
    },
    {
     "name": "stdout",
     "output_type": "stream",
     "text": [
      "Epoch: 15, Inception Score: 1.56 ± 0.05\n"
     ]
    },
    {
     "name": "stderr",
     "output_type": "stream",
     "text": [
      " 34%|███▍      | 17/50 [06:09<11:33, 21.01s/it]"
     ]
    },
    {
     "name": "stdout",
     "output_type": "stream",
     "text": [
      "Epoch: 16, Inception Score: 1.78 ± 0.25\n"
     ]
    },
    {
     "name": "stderr",
     "output_type": "stream",
     "text": [
      " 36%|███▌      | 18/50 [06:30<11:08, 20.88s/it]"
     ]
    },
    {
     "name": "stdout",
     "output_type": "stream",
     "text": [
      "Epoch: 17, Inception Score: 1.72 ± 0.19\n"
     ]
    },
    {
     "name": "stderr",
     "output_type": "stream",
     "text": [
      " 38%|███▊      | 19/50 [06:50<10:44, 20.80s/it]"
     ]
    },
    {
     "name": "stdout",
     "output_type": "stream",
     "text": [
      "Epoch: 18, Inception Score: 1.86 ± 0.32\n"
     ]
    },
    {
     "name": "stderr",
     "output_type": "stream",
     "text": [
      " 40%|████      | 20/50 [07:13<10:46, 21.54s/it]"
     ]
    },
    {
     "name": "stdout",
     "output_type": "stream",
     "text": [
      "Epoch: 19, Inception Score: 1.9 ± 0.35\n"
     ]
    },
    {
     "name": "stderr",
     "output_type": "stream",
     "text": [
      " 42%|████▏     | 21/50 [07:37<10:39, 22.05s/it]"
     ]
    },
    {
     "name": "stdout",
     "output_type": "stream",
     "text": [
      "Epoch: 20, Inception Score: 1.71 ± 0.18\n"
     ]
    },
    {
     "name": "stderr",
     "output_type": "stream",
     "text": [
      " 44%|████▍     | 22/50 [08:00<10:26, 22.39s/it]"
     ]
    },
    {
     "name": "stdout",
     "output_type": "stream",
     "text": [
      "Epoch: 21, Inception Score: 1.98 ± 0.29\n"
     ]
    },
    {
     "name": "stderr",
     "output_type": "stream",
     "text": [
      " 46%|████▌     | 23/50 [08:23<10:12, 22.70s/it]"
     ]
    },
    {
     "name": "stdout",
     "output_type": "stream",
     "text": [
      "Epoch: 22, Inception Score: 1.88 ± 0.21\n"
     ]
    },
    {
     "name": "stderr",
     "output_type": "stream",
     "text": [
      " 48%|████▊     | 24/50 [08:47<10:00, 23.08s/it]"
     ]
    },
    {
     "name": "stdout",
     "output_type": "stream",
     "text": [
      "Epoch: 23, Inception Score: 1.74 ± 0.29\n"
     ]
    },
    {
     "name": "stderr",
     "output_type": "stream",
     "text": [
      " 50%|█████     | 25/50 [09:11<09:42, 23.31s/it]"
     ]
    },
    {
     "name": "stdout",
     "output_type": "stream",
     "text": [
      "Epoch: 24, Inception Score: 1.75 ± 0.2\n"
     ]
    },
    {
     "name": "stderr",
     "output_type": "stream",
     "text": [
      " 52%|█████▏    | 26/50 [09:35<09:23, 23.47s/it]"
     ]
    },
    {
     "name": "stdout",
     "output_type": "stream",
     "text": [
      "Epoch: 25, Inception Score: 1.93 ± 0.34\n"
     ]
    },
    {
     "name": "stderr",
     "output_type": "stream",
     "text": [
      " 54%|█████▍    | 27/50 [09:59<09:01, 23.56s/it]"
     ]
    },
    {
     "name": "stdout",
     "output_type": "stream",
     "text": [
      "Epoch: 26, Inception Score: 1.76 ± 0.17\n"
     ]
    },
    {
     "name": "stderr",
     "output_type": "stream",
     "text": [
      " 56%|█████▌    | 28/50 [10:22<08:39, 23.62s/it]"
     ]
    },
    {
     "name": "stdout",
     "output_type": "stream",
     "text": [
      "Epoch: 27, Inception Score: 1.76 ± 0.22\n"
     ]
    },
    {
     "name": "stderr",
     "output_type": "stream",
     "text": [
      " 58%|█████▊    | 29/50 [10:46<08:17, 23.70s/it]"
     ]
    },
    {
     "name": "stdout",
     "output_type": "stream",
     "text": [
      "Epoch: 28, Inception Score: 1.95 ± 0.35\n"
     ]
    },
    {
     "name": "stderr",
     "output_type": "stream",
     "text": [
      " 60%|██████    | 30/50 [11:10<07:56, 23.82s/it]"
     ]
    },
    {
     "name": "stdout",
     "output_type": "stream",
     "text": [
      "Epoch: 29, Inception Score: 1.78 ± 0.3\n"
     ]
    },
    {
     "name": "stderr",
     "output_type": "stream",
     "text": [
      " 62%|██████▏   | 31/50 [11:34<07:32, 23.84s/it]"
     ]
    },
    {
     "name": "stdout",
     "output_type": "stream",
     "text": [
      "Epoch: 30, Inception Score: 1.79 ± 0.14\n"
     ]
    },
    {
     "name": "stderr",
     "output_type": "stream",
     "text": [
      " 64%|██████▍   | 32/50 [11:58<07:09, 23.85s/it]"
     ]
    },
    {
     "name": "stdout",
     "output_type": "stream",
     "text": [
      "Epoch: 31, Inception Score: 2.01 ± 0.28\n"
     ]
    },
    {
     "name": "stderr",
     "output_type": "stream",
     "text": [
      " 66%|██████▌   | 33/50 [12:22<06:43, 23.72s/it]"
     ]
    },
    {
     "name": "stdout",
     "output_type": "stream",
     "text": [
      "Epoch: 32, Inception Score: 1.88 ± 0.16\n"
     ]
    },
    {
     "name": "stderr",
     "output_type": "stream",
     "text": [
      " 68%|██████▊   | 34/50 [12:46<06:20, 23.80s/it]"
     ]
    },
    {
     "name": "stdout",
     "output_type": "stream",
     "text": [
      "Epoch: 33, Inception Score: 1.92 ± 0.22\n"
     ]
    },
    {
     "name": "stderr",
     "output_type": "stream",
     "text": [
      " 70%|███████   | 35/50 [13:10<05:57, 23.84s/it]"
     ]
    },
    {
     "name": "stdout",
     "output_type": "stream",
     "text": [
      "Epoch: 34, Inception Score: 1.85 ± 0.16\n"
     ]
    },
    {
     "name": "stderr",
     "output_type": "stream",
     "text": [
      " 72%|███████▏  | 36/50 [13:33<05:33, 23.84s/it]"
     ]
    },
    {
     "name": "stdout",
     "output_type": "stream",
     "text": [
      "Epoch: 35, Inception Score: 2.0 ± 0.27\n"
     ]
    },
    {
     "name": "stderr",
     "output_type": "stream",
     "text": [
      " 74%|███████▍  | 37/50 [13:57<05:10, 23.86s/it]"
     ]
    },
    {
     "name": "stdout",
     "output_type": "stream",
     "text": [
      "Epoch: 36, Inception Score: 1.94 ± 0.31\n"
     ]
    },
    {
     "name": "stderr",
     "output_type": "stream",
     "text": [
      " 76%|███████▌  | 38/50 [14:21<04:45, 23.82s/it]"
     ]
    },
    {
     "name": "stdout",
     "output_type": "stream",
     "text": [
      "Epoch: 37, Inception Score: 1.93 ± 0.24\n"
     ]
    },
    {
     "name": "stderr",
     "output_type": "stream",
     "text": [
      " 78%|███████▊  | 39/50 [14:45<04:22, 23.82s/it]"
     ]
    },
    {
     "name": "stdout",
     "output_type": "stream",
     "text": [
      "Epoch: 38, Inception Score: 2.01 ± 0.29\n"
     ]
    },
    {
     "name": "stderr",
     "output_type": "stream",
     "text": [
      " 80%|████████  | 40/50 [15:09<03:58, 23.83s/it]"
     ]
    },
    {
     "name": "stdout",
     "output_type": "stream",
     "text": [
      "Epoch: 39, Inception Score: 1.82 ± 0.25\n"
     ]
    },
    {
     "name": "stderr",
     "output_type": "stream",
     "text": [
      " 82%|████████▏ | 41/50 [15:33<03:35, 23.95s/it]"
     ]
    },
    {
     "name": "stdout",
     "output_type": "stream",
     "text": [
      "Epoch: 40, Inception Score: 1.97 ± 0.24\n"
     ]
    },
    {
     "name": "stderr",
     "output_type": "stream",
     "text": [
      " 84%|████████▍ | 42/50 [15:57<03:11, 23.99s/it]"
     ]
    },
    {
     "name": "stdout",
     "output_type": "stream",
     "text": [
      "Epoch: 41, Inception Score: 1.94 ± 0.32\n"
     ]
    },
    {
     "name": "stderr",
     "output_type": "stream",
     "text": [
      " 86%|████████▌ | 43/50 [16:21<02:47, 23.91s/it]"
     ]
    },
    {
     "name": "stdout",
     "output_type": "stream",
     "text": [
      "Epoch: 42, Inception Score: 2.02 ± 0.53\n"
     ]
    },
    {
     "name": "stderr",
     "output_type": "stream",
     "text": [
      " 88%|████████▊ | 44/50 [16:44<02:23, 23.86s/it]"
     ]
    },
    {
     "name": "stdout",
     "output_type": "stream",
     "text": [
      "Epoch: 43, Inception Score: 2.09 ± 0.34\n"
     ]
    },
    {
     "name": "stderr",
     "output_type": "stream",
     "text": [
      " 90%|█████████ | 45/50 [17:08<01:59, 23.83s/it]"
     ]
    },
    {
     "name": "stdout",
     "output_type": "stream",
     "text": [
      "Epoch: 44, Inception Score: 1.94 ± 0.34\n"
     ]
    },
    {
     "name": "stderr",
     "output_type": "stream",
     "text": [
      " 92%|█████████▏| 46/50 [17:32<01:35, 23.78s/it]"
     ]
    },
    {
     "name": "stdout",
     "output_type": "stream",
     "text": [
      "Epoch: 45, Inception Score: 1.99 ± 0.25\n"
     ]
    },
    {
     "name": "stderr",
     "output_type": "stream",
     "text": [
      " 94%|█████████▍| 47/50 [17:56<01:11, 23.75s/it]"
     ]
    },
    {
     "name": "stdout",
     "output_type": "stream",
     "text": [
      "Epoch: 46, Inception Score: 1.87 ± 0.22\n"
     ]
    },
    {
     "name": "stderr",
     "output_type": "stream",
     "text": [
      " 96%|█████████▌| 48/50 [18:19<00:47, 23.76s/it]"
     ]
    },
    {
     "name": "stdout",
     "output_type": "stream",
     "text": [
      "Epoch: 47, Inception Score: 2.01 ± 0.26\n"
     ]
    },
    {
     "name": "stderr",
     "output_type": "stream",
     "text": [
      " 98%|█████████▊| 49/50 [18:43<00:23, 23.76s/it]"
     ]
    },
    {
     "name": "stdout",
     "output_type": "stream",
     "text": [
      "Epoch: 48, Inception Score: 1.85 ± 0.21\n"
     ]
    },
    {
     "name": "stderr",
     "output_type": "stream",
     "text": [
      "100%|██████████| 50/50 [19:07<00:00, 22.95s/it]"
     ]
    },
    {
     "name": "stdout",
     "output_type": "stream",
     "text": [
      "Epoch: 49, Inception Score: 1.95 ± 0.23\n",
      "saving ACGAN model to file...\n"
     ]
    },
    {
     "name": "stderr",
     "output_type": "stream",
     "text": [
      "\n"
     ]
    }
   ],
   "source": [
    "print(\"training ACGAN model...\")\n",
    "train_acgan(acgan_generator_instance, acgan_discriminator_instance, train_CIFAR10_dataloader)\n",
    "\n",
    "\n",
    "print(\"saving ACGAN model to file...\")\n",
    "torch.save(acgan_generator_instance.state_dict(), 'acgan_generator.pkl')\n",
    "torch.save(acgan_discriminator_instance.state_dict(), 'acgan_discriminator.pkl')"
   ]
  },
  {
   "cell_type": "code",
   "execution_count": null,
   "id": "93551579-54e0-4902-88b3-f763abe4d5e0",
   "metadata": {},
   "outputs": [],
   "source": []
  },
  {
   "cell_type": "code",
   "execution_count": 8,
   "id": "38051a0f-7910-41e8-a6ba-ecb2c3a55d92",
   "metadata": {},
   "outputs": [
    {
     "name": "stdout",
     "output_type": "stream",
     "text": [
      "Grid of 8x8 images saved to 'acgan_generated_images.png'.\n"
     ]
    }
   ],
   "source": [
    "def generate_sample_images_acgan(generator_model):\n",
    "    noise_vector = Variable(torch.cuda.FloatTensor(np.random.normal(0, 1, (batch_size, 100))))\n",
    "    random_labels = Variable(torch.cuda.LongTensor(np.random.randint(0, 10, batch_size)))\n",
    "    generated_samples = generator_model(noise_vector, random_labels)\n",
    "    \n",
    "    # Normalize the images to [0, 1]\n",
    "    generated_samples = generated_samples.mul(0.5).add(0.5)\n",
    "    generated_samples = generated_samples.data.cpu()\n",
    "    image_grid = utils.make_grid(generated_samples)\n",
    "    print(\"Grid of 8x8 images saved to 'acgan_generated_images.png'.\")\n",
    "    utils.save_image(image_grid, 'acgan_generated_images.png')\n",
    "\n",
    "\n",
    "generate_sample_images_acgan(acgan_generator_instance)"
   ]
  },
  {
   "cell_type": "code",
   "execution_count": 9,
   "id": "77bee170-536f-4621-9108-2922d797e968",
   "metadata": {},
   "outputs": [
    {
     "name": "stdout",
     "output_type": "stream",
     "text": [
      "Loading ACGAN model...\n"
     ]
    }
   ],
   "source": [
    "def load_trained_model_acgan(model_instance, model_path):\n",
    "    model_instance.load_state_dict(torch.load(model_path))\n",
    "\n",
    "# Load trained ACGAN models and generate sample images\n",
    "print(\"Loading ACGAN model...\")\n",
    "load_trained_model_acgan(acgan_generator_instance, 'acgan_generator.pkl')\n",
    "load_trained_model_acgan(acgan_discriminator_instance, 'acgan_discriminator.pkl')\n"
   ]
  },
  {
   "cell_type": "code",
   "execution_count": null,
   "id": "de4b3b79-aa15-4628-a8a8-af8feee51bb9",
   "metadata": {},
   "outputs": [],
   "source": []
  },
  {
   "cell_type": "code",
   "execution_count": 7,
   "id": "910246a4-357a-4337-849f-ed00dfef3952",
   "metadata": {},
   "outputs": [
    {
     "name": "stdout",
     "output_type": "stream",
     "text": [
      "/home/xiaofey/CPSC-8430/Homework#4\n"
     ]
    }
   ],
   "source": [
    "!pwd"
   ]
  },
  {
   "cell_type": "code",
   "execution_count": null,
   "id": "5d2d50bf-51c6-426c-bd2e-d2fc948068d1",
   "metadata": {},
   "outputs": [],
   "source": []
  },
  {
   "cell_type": "code",
   "execution_count": null,
   "id": "740aaed9-bf75-4cf7-b57e-e4d7f91b367f",
   "metadata": {},
   "outputs": [],
   "source": []
  },
  {
   "cell_type": "code",
   "execution_count": null,
   "id": "06f8f272-18c9-4911-84f7-4524c1b0897f",
   "metadata": {},
   "outputs": [],
   "source": []
  }
 ],
 "metadata": {
  "kernelspec": {
   "display_name": "pytorch4d]",
   "language": "python",
   "name": "pytorch4d"
  },
  "language_info": {
   "codemirror_mode": {
    "name": "ipython",
    "version": 3
   },
   "file_extension": ".py",
   "mimetype": "text/x-python",
   "name": "python",
   "nbconvert_exporter": "python",
   "pygments_lexer": "ipython3",
   "version": "3.9.18"
  }
 },
 "nbformat": 4,
 "nbformat_minor": 5
}
